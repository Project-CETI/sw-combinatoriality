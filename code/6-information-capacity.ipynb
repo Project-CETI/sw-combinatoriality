{
 "cells": [
  {
   "cell_type": "markdown",
   "metadata": {},
   "source": [
    "# Compute info carrying capacity of the coda typing system  vs the new combinatorial coding system\n"
   ]
  },
  {
   "cell_type": "code",
   "execution_count": 1,
   "metadata": {},
   "outputs": [],
   "source": [
    "import math"
   ]
  },
  {
   "cell_type": "code",
   "execution_count": 2,
   "metadata": {},
   "outputs": [],
   "source": [
    "avg_len_exchange = 20\n",
    "num_symbols_old = 21\n",
    "time_per_exchange = 4\n",
    "avg_coda_time = 0.916"
   ]
  },
  {
   "cell_type": "code",
   "execution_count": 3,
   "metadata": {},
   "outputs": [
    {
     "name": "stdout",
     "output_type": "stream",
     "text": [
      "Number of messages:  278218429446951548637196401\n",
      "Number of bits required:  87.84634845557521\n",
      "bit rate:  4.392317422778761\n",
      "bit rate measured by coda:  4.795106356745372\n"
     ]
    }
   ],
   "source": [
    "# Old system\n",
    "num_messages = (num_symbols_old)**avg_len_exchange\n",
    "print('Number of messages: ', num_messages)\n",
    "num_bits_req = math.log(num_messages,2)\n",
    "print('Number of bits required: ', num_bits_req)\n",
    "\n",
    "bit_rate = num_bits_req/(avg_len_exchange)\n",
    "print('bit rate: ', bit_rate)\n",
    "\n",
    "bit_rate_1coda = math.log(num_symbols_old,2)/avg_coda_time\n",
    "print('bit rate measured by coda: ', bit_rate_1coda)"
   ]
  },
  {
   "cell_type": "code",
   "execution_count": 4,
   "metadata": {},
   "outputs": [
    {
     "name": "stdout",
     "output_type": "stream",
     "text": [
      "Number of messages:  4445035117959310581620479958817177600000000000000000000\n",
      "Number of bits required:  181.53631194101663\n",
      "bit rate:  9.076815597050832\n",
      "bit rate measured by coda:  9.909187333024924\n"
     ]
    }
   ],
   "source": [
    "# New system\n",
    "num_symbols_new = (18*5*3*2)\n",
    "\n",
    "num_messages = (num_symbols_new)**avg_len_exchange\n",
    "print('Number of messages: ', num_messages)\n",
    "num_bits_req = math.log(num_messages,2)\n",
    "print('Number of bits required: ', num_bits_req)\n",
    "\n",
    "bit_rate = num_bits_req/(avg_len_exchange)\n",
    "print('bit rate: ', bit_rate)\n",
    "\n",
    "bit_rate_1coda = math.log(num_symbols_new,2)/avg_coda_time\n",
    "print('bit rate measured by coda: ', bit_rate_1coda)"
   ]
  }
 ],
 "metadata": {
  "kernelspec": {
   "display_name": "Python 3 (ipykernel)",
   "language": "python",
   "name": "python3"
  },
  "language_info": {
   "codemirror_mode": {
    "name": "ipython",
    "version": 3
   },
   "file_extension": ".py",
   "mimetype": "text/x-python",
   "name": "python",
   "nbconvert_exporter": "python",
   "pygments_lexer": "ipython3",
   "version": "3.9.12"
  }
 },
 "nbformat": 4,
 "nbformat_minor": 4
}
