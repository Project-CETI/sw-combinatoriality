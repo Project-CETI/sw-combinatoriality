{
 "cells": [
  {
   "cell_type": "code",
   "execution_count": 1,
   "metadata": {},
   "outputs": [],
   "source": [
    "%matplotlib inline\n",
    "\n",
    "import numpy as np\n",
    "import matplotlib.pyplot as plt\n",
    "import IPython\n",
    "\n",
    "import numpy as np\n",
    "import os\n",
    "from IPython.display import Image as Image2\n",
    "from numpy import genfromtxt \n",
    "import pickle\n",
    "from IPython import embed\n",
    "from PIL import Image, ImageDraw, ImageFont \n",
    "\n",
    "import seaborn as sns\n",
    "import pandas as pd\n",
    "from scipy import ndimage\n",
    "from matplotlib.backends.backend_agg import FigureCanvasAgg as FigureCanvas\n",
    "import matplotlib.patches as mpatches\n",
    "from scipy.io import loadmat\n",
    "from scipy.stats import spearmanr\n",
    "import random\n",
    "from scipy.stats import fisher_exact\n",
    "from operator import itemgetter"
   ]
  },
  {
   "cell_type": "code",
   "execution_count": 2,
   "metadata": {},
   "outputs": [],
   "source": [
    "# Data Loading"
   ]
  },
  {
   "cell_type": "code",
   "execution_count": 3,
   "metadata": {},
   "outputs": [],
   "source": [
    "my_data = genfromtxt('../data/sperm-whale-dialogues.csv', delimiter=',',dtype=None,encoding=\"utf8\")\n",
    "mean_codas = pickle.load(open('../data/mean_codas.p',\"rb\"))"
   ]
  },
  {
   "cell_type": "code",
   "execution_count": 4,
   "metadata": {},
   "outputs": [],
   "source": [
    "extra_click = pickle.load(open('../data/ornaments.p',\"rb\"))"
   ]
  },
  {
   "cell_type": "code",
   "execution_count": 5,
   "metadata": {},
   "outputs": [
    {
     "data": {
      "text/plain": [
       "array(['REC', 'nClicks', 'Duration', 'ICI1', 'ICI2', 'ICI3', 'ICI4',\n",
       "       'ICI5', 'ICI6', 'ICI7', 'ICI8', 'ICI9', 'ICI10', 'ICI11', 'ICI12',\n",
       "       'ICI13', 'ICI14', 'ICI15', 'ICI16', 'ICI17', 'ICI18', 'ICI19',\n",
       "       'ICI20', 'ICI21', 'ICI22', 'ICI23', 'ICI24', 'ICI25', 'ICI26',\n",
       "       'ICI27', 'ICI28', 'Whale', 'TsTo'], dtype='<U15')"
      ]
     },
     "execution_count": 5,
     "metadata": {},
     "output_type": "execute_result"
    }
   ],
   "source": [
    "my_data[0,:]"
   ]
  },
  {
   "cell_type": "code",
   "execution_count": 6,
   "metadata": {},
   "outputs": [],
   "source": [
    "def parseCoda(i):\n",
    "    if i==-1:\n",
    "        return [0,0,0,0,0,0,0]\n",
    "    coda = book[i,:]\n",
    "    whale_number = coda[0].astype(int)\n",
    "    t_init = coda[1]-time_origin     \n",
    "    click_times = coda[2:42].astype(float).tolist()\n",
    "    num_clicks = np.count_nonzero(click_times)+1 # sum 1 because the first click is always zero.\n",
    "    click_times = click_times[0:num_clicks]\n",
    "    average_power = coda[84]\n",
    "    # 43rd column to 83rd column: Powers of the clicks\n",
    "    click_power = coda[43:83].astype(float).tolist()\n",
    "    click_power = np.array(click_power[0:num_clicks])\n",
    "    cluster = int(coda[-1])\n",
    "    return [whale_number,t_init,num_clicks,click_times,average_power,click_power,cluster]\n",
    "\n",
    "# Function: returns the index for the next coda (after coda i) from the same whale.\n",
    "def getNextCoda(i):\n",
    "    whale_number = whale_id[i]\n",
    "    book_start = file_names[i][:6]\n",
    "    book_next = file_names[min(len(whale_id)-1,i+1)][:6]\n",
    "    found = -1\n",
    "    while found==-1 and i<len(whale_id)-1 and book_start==book_next :\n",
    "        i=i+1\n",
    "        book_next = file_names[i][:6]\n",
    "        whale_number_i = whale_id[i]\n",
    "        if whale_number_i==whale_number:\n",
    "            found = i\n",
    "    return found\n",
    "\n",
    "# Function: returns the index for the previous coda (before coda i) from the same whale.\n",
    "def getPreviousCoda(i):\n",
    "    found = -1\n",
    "    whale_number = whale_id[i]\n",
    "    book_start = file_names[i][:6]\n",
    "    book_next = file_names[max(0,i-1)][:6]\n",
    "    while found==-1 and i>0 and book_start==book_next:\n",
    "        i=i-1\n",
    "        book_next = file_names[i][:6]\n",
    "        whale_number_i = whale_id[i]\n",
    "        if whale_number_i==whale_number:\n",
    "            found = i\n",
    "    return found\n",
    "\n",
    "def return_relative(idx,n_clicks):\n",
    "#     n_clicks = my_data[idx,1].astype(int)\n",
    "    rel_ICI = []\n",
    "#     rel_ICI.append(0)\n",
    "    for t in range(3,3+n_clicks):\n",
    "        rel_ICI.append(np.sum(my_data[idx,3:t].astype(float))/np.sum(my_data[idx,3:3+n_clicks-1].astype(float)))\n",
    "    return rel_ICI#,np.sum(my_data[idx,3:3+n_clicks-1].astype(float))"
   ]
  },
  {
   "cell_type": "code",
   "execution_count": 7,
   "metadata": {},
   "outputs": [],
   "source": [
    "durs = my_data[1:,2].astype(float) \n",
    "times = my_data[1:,-1].astype(float) \n",
    "file_names = my_data[1:,0].astype(str)\n",
    "num_clicks = my_data[1:,1].astype(int)\n",
    "whale_id = my_data[1:,-2].astype(int)\n",
    "\n",
    "TsTo = my_data[1:,-1].astype(float)"
   ]
  },
  {
   "cell_type": "markdown",
   "metadata": {},
   "source": [
    "Compute the mean squared distance between each standardised, ornamented coda and the cluster centre of its assigned rhythm type. We then removed ornaments and computed mean squared distance between the standardised coda and the centres of rhythm clusters for adjacent codas produced by the same whale. The second quantity (0.0034s2 reflecting a hypothesis that ornamented codas match their neighbors) is significantly smaller than the first (0.0053s2 , reflecting a null hypothesis that ornamented codas resemble other codas of the same type)."
   ]
  },
  {
   "cell_type": "code",
   "execution_count": 8,
   "metadata": {},
   "outputs": [
    {
     "name": "stderr",
     "output_type": "stream",
     "text": [
      "/tmp/ipykernel_3069384/1960991833.py:50: RuntimeWarning: invalid value encountered in double_scalars\n",
      "  rel_ICI.append(np.sum(my_data[idx,3:t].astype(float))/np.sum(my_data[idx,3:3+n_clicks-1].astype(float)))\n"
     ]
    }
   ],
   "source": [
    "extra_click_neighbours = []\n",
    "\n",
    "for i in range(len(extra_click)):\n",
    "    if extra_click[i]==1:\n",
    "        prev_id = getPreviousCoda(i)\n",
    "        next_id = getNextCoda(i)\n",
    "#         print(i,prev_id,next_id)\n",
    "        tsto_curr = TsTo[i]\n",
    "        nclicks_curr = num_clicks[i]-1\n",
    "        coda_curr = return_relative(i+1,nclicks_curr)\n",
    "        \n",
    "        \n",
    "        if prev_id!=-1:\n",
    "            tsto_prev = TsTo[prev_id]\n",
    "            nclicks_prev = num_clicks[prev_id]\n",
    "            coda_prev = return_relative(prev_id+1,nclicks_prev)\n",
    "            \n",
    "            min_mse = []\n",
    "            corresponding_cluster = []\n",
    "        \n",
    "        \n",
    "            for j in range(len(mean_codas)):\n",
    "                coda_comp = mean_codas[j]\n",
    "\n",
    "                if len(list(coda_comp)) == len(coda_prev):\n",
    "                    A = np.array(coda_prev)\n",
    "                    B = coda_comp\n",
    "                    min_mse.append(((A - B)**2).mean())\n",
    "                    corresponding_cluster.append(j)\n",
    "        \n",
    "\n",
    "            if len(min_mse)>0:\n",
    "                idx,mse = min(enumerate(min_mse), key=itemgetter(1))\n",
    "                cluster_id = corresponding_cluster[idx]\n",
    "            \n",
    "            if tsto_curr - tsto_prev<8 and nclicks_curr == len(mean_codas[cluster_id]):#nclicks_prev:\n",
    "                extra_click_neighbours.append((coda_curr,mean_codas[cluster_id]))\n",
    "        \n",
    "        \n",
    "        if next_id!=-1:\n",
    "            tsto_next = TsTo[next_id]\n",
    "            nclicks_next = num_clicks[next_id]\n",
    "            coda_next = return_relative(next_id+1,nclicks_next)\n",
    "            \n",
    "            min_mse = []\n",
    "            corresponding_cluster = []\n",
    "        \n",
    "        \n",
    "            for j in range(len(mean_codas)):\n",
    "                coda_comp = mean_codas[j]\n",
    "\n",
    "                if len(list(coda_comp)) == len(coda_next):\n",
    "                    A = np.array(coda_next)\n",
    "                    B = coda_comp\n",
    "                    min_mse.append(((A - B)**2).mean())\n",
    "                    corresponding_cluster.append(j)\n",
    "        \n",
    "\n",
    "            if len(min_mse)>0:\n",
    "                idx,mse = min(enumerate(min_mse), key=itemgetter(1))\n",
    "                cluster_id = corresponding_cluster[idx]\n",
    "            \n",
    "\n",
    "                \n",
    "            if tsto_next - tsto_curr<8 and len(coda_curr) == len(mean_codas[cluster_id]):#nclicks_next:\n",
    "                extra_click_neighbours.append((coda_curr,mean_codas[cluster_id]))\n",
    "        "
   ]
  },
  {
   "cell_type": "code",
   "execution_count": 9,
   "metadata": {},
   "outputs": [
    {
     "data": {
      "text/plain": [
       "0.0033705029085953873"
      ]
     },
     "execution_count": 9,
     "metadata": {},
     "output_type": "execute_result"
    }
   ],
   "source": [
    "mse_neighbour = []\n",
    "for i in range(len(extra_click_neighbours)):\n",
    "    A = np.array(extra_click_neighbours[i][0])\n",
    "    B = np.array(extra_click_neighbours[i][1])\n",
    "    if i!=94:\n",
    "        mse_neighbour.append(((A - B)**2).mean())\n",
    "    \n",
    "np.mean(np.array(mse_neighbour))"
   ]
  },
  {
   "cell_type": "code",
   "execution_count": 10,
   "metadata": {},
   "outputs": [
    {
     "data": {
      "text/plain": [
       "0.005342849985548735"
      ]
     },
     "execution_count": 10,
     "metadata": {},
     "output_type": "execute_result"
    }
   ],
   "source": [
    "mse_self = []\n",
    "ct = 0\n",
    "ct1=0\n",
    "for i in range(len(extra_click)):\n",
    "    if extra_click[i]==1:\n",
    "        ct+=1\n",
    "        prev_id = getPreviousCoda(i)\n",
    "        next_id = getNextCoda(i)\n",
    "#         print(i,prev_id,next_id)\n",
    "        tsto_curr = TsTo[i]\n",
    "        nclicks_curr = num_clicks[i]\n",
    "        coda_curr = return_relative(i+1,nclicks_curr)\n",
    "        \n",
    "        min_mse = []\n",
    "        \n",
    "        for j in range(len(mean_codas)):\n",
    "            coda_comp = mean_codas[j]\n",
    "            \n",
    "            if len(list(coda_comp)) == len(coda_curr):\n",
    "                A = np.array(coda_curr)\n",
    "                B = coda_comp\n",
    "                min_mse.append(((A - B)**2).mean())\n",
    "                \n",
    "        if len(min_mse)>0:\n",
    "            mse_self.append(min(min_mse))\n",
    "            ct1+=1\n",
    "np.mean(mse_self)"
   ]
  },
  {
   "cell_type": "code",
   "execution_count": 11,
   "metadata": {},
   "outputs": [
    {
     "data": {
      "text/plain": [
       "Text(0.5, 0, 'MSE')"
      ]
     },
     "execution_count": 11,
     "metadata": {},
     "output_type": "execute_result"
    },
    {
     "data": {
      "image/png": "[encoded data removed]",
      "text/plain": [
       "<Figure size 432x288 with 1 Axes>"
      ]
     },
     "metadata": {
      "needs_background": "light"
     },
     "output_type": "display_data"
    }
   ],
   "source": [
    "import numpy as np # for random data\n",
    "import pandas as pd  # for convinience\n",
    "import matplotlib.pyplot as plt  # for graphics\n",
    "import seaborn as sns  # for nicer graphics\n",
    "\n",
    "\n",
    "plt.figure()\n",
    "# plt.hist(nec[:-3], histtype='barstacked',bins=BINS, density=True);\n",
    "sns.kdeplot(mse_neighbour);\n",
    "sns.kdeplot(mse_self);\n",
    "plt.legend(['Neighbouring Coda Cluster: (n-1) click','Closest Cluster: n click'], loc=1)\n",
    "plt.xlabel('MSE')"
   ]
  },
  {
   "cell_type": "code",
   "execution_count": 12,
   "metadata": {},
   "outputs": [],
   "source": [
    "a = (mse_self+mse_neighbour).copy()\n",
    "t_obs = np.mean(mse_self)-np.mean(np.array(mse_neighbour))\n",
    "\n",
    "means_batches = []\n",
    "for N in range(10000):\n",
    "    random.shuffle(a)\n",
    "    set_x = a[:len(mse_neighbour)]\n",
    "    set_y = a[len(mse_neighbour):]\n",
    "    \n",
    "    means_batches.append(np.mean(np.array(set_y))-np.mean(np.array(set_x)))\n",
    "    \n",
    "def compute_quantile(value, data):\n",
    "    sorted_data = sorted(data)\n",
    "    length = len(sorted_data)\n",
    "    \n",
    "    # Find the position where the value would be inserted\n",
    "    position = 0\n",
    "    for i in range(length):\n",
    "        if sorted_data[i] >= value:\n",
    "            position = i\n",
    "            break\n",
    "        position = length\n",
    "    \n",
    "    # Calculate the quantile\n",
    "    quantile = (position + 1) / length\n",
    "    \n",
    "    return quantile"
   ]
  },
  {
   "cell_type": "code",
   "execution_count": 13,
   "metadata": {},
   "outputs": [
    {
     "data": {
      "text/plain": [
       "0.0020999999999999908"
      ]
     },
     "execution_count": 13,
     "metadata": {},
     "output_type": "execute_result"
    }
   ],
   "source": [
    "1-compute_quantile(t_obs,means_batches)"
   ]
  },
  {
   "cell_type": "code",
   "execution_count": 14,
   "metadata": {},
   "outputs": [],
   "source": [
    "ct = 0\n",
    "for i in range(len(means_batches)):\n",
    "    if t_obs>means_batches[i]:\n",
    "        ct+=1"
   ]
  },
  {
   "cell_type": "code",
   "execution_count": 15,
   "metadata": {},
   "outputs": [
    {
     "data": {
      "text/plain": [
       "0.0021999999999999797"
      ]
     },
     "execution_count": 15,
     "metadata": {},
     "output_type": "execute_result"
    }
   ],
   "source": [
    "1-(ct/len(means_batches))"
   ]
  },
  {
   "cell_type": "markdown",
   "metadata": {},
   "source": [
    "Compare the difference between the final two ICIs, normalized by the penultimate ICI, to reduce variance arising from rubato. This measurement exhibits a significant difference in distribution in ornamented vs non-ornamented codas"
   ]
  },
  {
   "cell_type": "code",
   "execution_count": 16,
   "metadata": {},
   "outputs": [],
   "source": [
    "ici_ec_n = []\n",
    "ici_ec_n_1 =[]\n",
    "\n",
    "ici_n = []\n",
    "ici_n_1 =[]\n",
    "\n",
    "\n",
    "for i in range(len(extra_click)):\n",
    "    if extra_click[i]==1:\n",
    "        if my_data[i+1,1+my_data[i+1,1].astype(int)].astype(float)<0.01:\n",
    "            print(i)\n",
    "\n",
    "        ici_ec_n.append(my_data[i+1,0+my_data[i+1,1].astype(int)].astype(float))\n",
    "        ici_ec_n_1.append(my_data[i+1,1+my_data[i+1,1].astype(int)].astype(float))\n",
    "\n",
    "    elif extra_click[i]==0:\n",
    "        ici_n.append(my_data[i+1,0+my_data[i+1,1].astype(int)].astype(float))\n",
    "        ici_n_1.append(my_data[i+1,1+my_data[i+1,1].astype(int)].astype(float))\n"
   ]
  },
  {
   "cell_type": "code",
   "execution_count": 17,
   "metadata": {},
   "outputs": [],
   "source": [
    "ec = []\n",
    "nec = []\n",
    "\n",
    "for i in range(len(ici_n)):\n",
    "    if (-ici_n[i]+ici_n_1[i])/ici_n[i]<10:\n",
    "        nec.append((-ici_n[i]+ici_n_1[i])/ici_n[i])\n",
    "\n",
    "for i in range(len(ici_ec_n)):\n",
    "    if (-ici_ec_n[i]+ici_ec_n_1[i])/ici_ec_n[i]<10:\n",
    "        ec.append((-ici_ec_n[i]+ici_ec_n_1[i])/ici_ec_n[i])"
   ]
  },
  {
   "cell_type": "code",
   "execution_count": 18,
   "metadata": {},
   "outputs": [],
   "source": [
    "nec.sort()\n",
    "ec.sort()"
   ]
  },
  {
   "cell_type": "code",
   "execution_count": 19,
   "metadata": {},
   "outputs": [
    {
     "data": {
      "text/plain": [
       "Text(0.5, 0, '(last ICI - penultimate ICI) / penultimate ICI')"
      ]
     },
     "execution_count": 19,
     "metadata": {},
     "output_type": "execute_result"
    },
    {
     "data": {
      "image/png": "[encoded data removed]",
      "text/plain": [
       "<Figure size 432x288 with 1 Axes>"
      ]
     },
     "metadata": {
      "needs_background": "light"
     },
     "output_type": "display_data"
    }
   ],
   "source": [
    "import numpy as np # for random data\n",
    "import pandas as pd  # for convinience\n",
    "import matplotlib.pyplot as plt  # for graphics\n",
    "import seaborn as sns  # for nicer graphics\n",
    "\n",
    "\n",
    "plt.figure()\n",
    "sns.kdeplot(nec);\n",
    "sns.kdeplot(ec);\n",
    "plt.legend(['Without','With ornamentation'], loc=1)\n",
    "plt.xlabel('(last ICI - penultimate ICI) / penultimate ICI')"
   ]
  },
  {
   "cell_type": "code",
   "execution_count": 20,
   "metadata": {},
   "outputs": [
    {
     "data": {
      "text/plain": [
       "KstestResult(statistic=0.5189840925524223, pvalue=1.6653345369377348e-15)"
      ]
     },
     "execution_count": 20,
     "metadata": {},
     "output_type": "execute_result"
    }
   ],
   "source": [
    "from scipy.stats import ks_2samp\n",
    "ks_2samp(ec, nec)"
   ]
  },
  {
   "cell_type": "code",
   "execution_count": 21,
   "metadata": {},
   "outputs": [
    {
     "name": "stdout",
     "output_type": "stream",
     "text": [
      "Kolmogorov-Smirnov Test Results:\n",
      "Test Statistic: 0.5189840925524223\n",
      "P-value: 1.6653345369377348e-15\n",
      "Confidence Intervals:\n",
      "Lower: 0.4156019612292776\n",
      "Upper: 0.622366223875567\n"
     ]
    }
   ],
   "source": [
    "import scipy.stats as stats\n",
    "import numpy as np\n",
    "\n",
    "def ks_test_ci(data, cdf, alpha=0.05):\n",
    "    # Perform the Kolmogorov-Smirnov test\n",
    "    d_stat, p_value = stats.kstest(data, cdf)\n",
    "    \n",
    "    # Compute the critical value\n",
    "    n = len(cdf)\n",
    "    crit_value = stats.kstwobign.ppf(1 - alpha / 2) / np.sqrt(205)\n",
    "    \n",
    "    # Compute the confidence intervals\n",
    "    lower_ci = max(0, d_stat - crit_value)\n",
    "    upper_ci = min(1, d_stat + crit_value)\n",
    "    \n",
    "    return d_stat, p_value, lower_ci, upper_ci\n",
    "\n",
    "# Example usage\n",
    "data = np.random.normal(0, 1, 100)  # Sample data from a normal distribution\n",
    "cdf = 'norm'  # Cumulative distribution function to test against\n",
    "\n",
    "d_stat, p_value, lower, upper = ks_test_ci(ec, nec)\n",
    "\n",
    "print(\"Kolmogorov-Smirnov Test Results:\")\n",
    "print(f\"Test Statistic: {d_stat}\")\n",
    "print(f\"P-value: {p_value}\")\n",
    "print(\"Confidence Intervals:\")\n",
    "print(f\"Lower: {lower}\")\n",
    "print(f\"Upper: {upper}\")"
   ]
  },
  {
   "cell_type": "markdown",
   "metadata": {},
   "source": [
    "a significantly greater proportion of ornamented codas appear at the beginning of call sequences than unornamented codas. \n",
    "A significantly greater fraction of ornamented codas also appear at the end of call sequences compared to unornamented codas"
   ]
  },
  {
   "cell_type": "code",
   "execution_count": 22,
   "metadata": {},
   "outputs": [],
   "source": [
    "blocks = []\n",
    "\n",
    "prev_conv = file_names[0][:6]\n",
    "dialogue = []\n",
    "prev_t = TsTo[0]\n",
    "\n",
    "ids_all = list(range(0,my_data.shape[0]-1))\n",
    "\n",
    "\n",
    "while len(ids_all)!=0:\n",
    "    i = ids_all[0] \n",
    "    ids_all.remove(i)\n",
    "    while i!=-1:\n",
    "        curr_conv = file_names[i][:6]\n",
    "        curr_t = TsTo[i]\n",
    "        if curr_conv==prev_conv and curr_t-prev_t<8:\n",
    "            dialogue.append(i)\n",
    "        else:\n",
    "            blocks.append(dialogue)\n",
    "            dialogue = []\n",
    "            dialogue.append(i)\n",
    "        prev_conv = curr_conv\n",
    "        prev_t = curr_t\n",
    "\n",
    "        i = getNextCoda(i)\n",
    "        if i!=-1:\n",
    "            ids_all.remove(i)\n",
    "    blocks.append(dialogue)\n",
    "    dialogue = []"
   ]
  },
  {
   "cell_type": "code",
   "execution_count": 22,
   "metadata": {},
   "outputs": [],
   "source": [
    "location_ornament = []\n",
    "\n",
    "for i in range(len(blocks)):\n",
    "    conv = blocks[i]\n",
    "    if len(conv)>1:\n",
    "        for j in range(len(conv)):\n",
    "            if extra_click[conv[j]]==1:\n",
    "                id_ec = conv[j]\n",
    "                id_st = conv[0]\n",
    "                id_en = conv[-1]\n",
    "                if (TsTo[id_en]-TsTo[id_st])==0:\n",
    "                    location_ornament.append(0)\n",
    "                    print(\"here\")\n",
    "                else:\n",
    "                    location_ornament.append((TsTo[id_ec]-TsTo[id_st])/ (TsTo[id_en]-TsTo[id_st]))"
   ]
  },
  {
   "cell_type": "code",
   "execution_count": 23,
   "metadata": {},
   "outputs": [],
   "source": [
    "baseline = []\n",
    "\n",
    "for i in range(len(blocks)):\n",
    "    conv = blocks[i]\n",
    "    if len(conv)>1:\n",
    "        for j in range(len(conv)):\n",
    "            if extra_click[conv[j]]!=1:\n",
    "                id_ec = conv[j]\n",
    "                id_st = conv[0]\n",
    "                id_en = conv[-1]\n",
    "                if (TsTo[id_en]-TsTo[id_st])==0:\n",
    "                    a =1\n",
    "    #                 where.append(0)\n",
    "    #                 print(\"here\")\n",
    "                else:\n",
    "                    baseline.append((TsTo[id_ec]-TsTo[id_st])/ (TsTo[id_en]-TsTo[id_st]))"
   ]
  },
  {
   "cell_type": "code",
   "execution_count": 24,
   "metadata": {},
   "outputs": [
    {
     "data": {
      "text/plain": [
       "Text(0, 0.5, 'Counts')"
      ]
     },
     "execution_count": 24,
     "metadata": {},
     "output_type": "execute_result"
    },
    {
     "data": {
      "image/png": "[encoded data removed]",
      "text/plain": [
       "<Figure size 432x288 with 1 Axes>"
      ]
     },
     "metadata": {
      "needs_background": "light"
     },
     "output_type": "display_data"
    }
   ],
   "source": [
    "import numpy as np # for random data\n",
    "import pandas as pd  # for convinience\n",
    "import matplotlib.pyplot as plt  # for graphics\n",
    "import seaborn as sns  # for nicer graphics\n",
    "\n",
    "\n",
    "plt.figure()\n",
    "plt.hist(location_ornament, histtype='barstacked',bins=50);\n",
    "\n",
    "plt.xlabel('Position of the extra click in the conversation')\n",
    "plt.ylabel('Counts')"
   ]
  },
  {
   "cell_type": "code",
   "execution_count": 25,
   "metadata": {},
   "outputs": [],
   "source": [
    "# Fisher's exact test"
   ]
  },
  {
   "cell_type": "code",
   "execution_count": 26,
   "metadata": {},
   "outputs": [
    {
     "name": "stdout",
     "output_type": "stream",
     "text": [
      "41 594 100 2893\n"
     ]
    },
    {
     "data": {
      "text/plain": [
       "(1.9968518518518519e+00, 0.0006029808644194587)"
      ]
     },
     "execution_count": 26,
     "metadata": {},
     "output_type": "execute_result"
    }
   ],
   "source": [
    "# Start of conversation\n",
    "\n",
    "ornament_st = 0\n",
    "ornament_remaining = 0\n",
    "\n",
    "for i in range(len(location_ornament)):\n",
    "    if location_ornament[i]==0:\n",
    "        ornament_st+=1\n",
    "    else:\n",
    "        ornament_remaining+=1\n",
    "\n",
    "coda_st = 0\n",
    "coda_rem = 0\n",
    "for i in range(len(baseline)):\n",
    "    if baseline[i]==0:\n",
    "        coda_st+=1\n",
    "    else:\n",
    "        coda_rem+=1\n",
    "        \n",
    "print(ornament_st,coda_st,ornament_remaining,coda_rem)\n",
    "fisher_exact([[ornament_st,coda_st],[ornament_remaining,coda_rem]])"
   ]
  },
  {
   "cell_type": "code",
   "execution_count": 27,
   "metadata": {},
   "outputs": [
    {
     "name": "stdout",
     "output_type": "stream",
     "text": [
      "37 598 104 2889\n"
     ]
    },
    {
     "data": {
      "text/plain": [
       "(1.7187580396192437e+00, 0.008848782517951641)"
      ]
     },
     "execution_count": 27,
     "metadata": {},
     "output_type": "execute_result"
    }
   ],
   "source": [
    "# end of conversation\n",
    "\n",
    "ornament_en = 0\n",
    "ornament_remaining = 0\n",
    "\n",
    "for i in range(len(location_ornament)):\n",
    "    if location_ornament[i]==1:\n",
    "        ornament_en+=1\n",
    "    else:\n",
    "        ornament_remaining+=1\n",
    "\n",
    "coda_en = 0\n",
    "coda_rem = 0\n",
    "for i in range(len(baseline)):\n",
    "    if baseline[i]==1:\n",
    "        coda_en+=1\n",
    "    else:\n",
    "        coda_rem+=1\n",
    "print(ornament_en,coda_en,ornament_remaining,coda_rem)\n",
    "       \n",
    "fisher_exact([[ornament_en,coda_en],[ornament_remaining,coda_rem]])"
   ]
  },
  {
   "cell_type": "markdown",
   "metadata": {},
   "source": [
    "Compared to unornamented codas, ornamented codas from the leading whale are disproportionately succeeded by a change in chorusing behavior from the following whale"
   ]
  },
  {
   "cell_type": "code",
   "execution_count": 28,
   "metadata": {},
   "outputs": [],
   "source": [
    "blocks = []\n",
    "\n",
    "prev_conv = file_names[0][:6]\n",
    "dialogue = []\n",
    "prev_t = TsTo[0]\n",
    "for i in range(0,my_data.shape[0]-1):\n",
    "    curr_conv = file_names[i][:6]\n",
    "    curr_t = TsTo[i]\n",
    "    if curr_conv==prev_conv and curr_t-prev_t<12:\n",
    "        dialogue.append(i)\n",
    "    else:\n",
    "        blocks.append(dialogue)\n",
    "        dialogue = []\n",
    "        dialogue.append(i)\n",
    "    prev_conv = curr_conv\n",
    "    prev_t = curr_t\n",
    "blocks.append(dialogue)"
   ]
  },
  {
   "cell_type": "code",
   "execution_count": 29,
   "metadata": {},
   "outputs": [],
   "source": [
    "block_interrupt = []\n",
    "\n",
    "for i in range(len(blocks)):\n",
    "    conv = blocks[i]\n",
    "    new_conv = []\n",
    "    j=0\n",
    "    while j<(len(conv)):\n",
    "        if j==len(conv)-1:\n",
    "            new_conv.append(0)\n",
    "            j+=1\n",
    "        else:\n",
    "            id_curr = conv[j]\n",
    "            id_next = conv[j+1]\n",
    "            if TsTo[id_next]-TsTo[id_curr]<2:\n",
    "                new_conv.append(1)\n",
    "                new_conv.append(1)\n",
    "                j+=2\n",
    "            else:\n",
    "                new_conv.append(0)\n",
    "                j+=1\n",
    "    block_interrupt.append(new_conv)"
   ]
  },
  {
   "cell_type": "code",
   "execution_count": 30,
   "metadata": {},
   "outputs": [
    {
     "name": "stderr",
     "output_type": "stream",
     "text": [
      "/tmp/ipykernel_212855/207169217.py:20: RuntimeWarning: invalid value encountered in double_scalars\n",
      "  frac = (TsTo[id_ec]-TsTo[id_st])/ (TsTo[id_en]-TsTo[id_st])\n"
     ]
    }
   ],
   "source": [
    "# For extra click clicks\n",
    "ct = 0\n",
    "tot = 0\n",
    "click = []\n",
    "ct_ec = 0\n",
    "al=0\n",
    "for i in range(len(block_interrupt)):\n",
    "    conv = block_interrupt[i]\n",
    "    ids = blocks[i]\n",
    "    for j in range(len(conv)):\n",
    "        if extra_click[ids[j]]==1:\n",
    "            ct_ec+=1\n",
    "            \n",
    "            curr_conv = conv[j]\n",
    "            neighbourhood = conv[max(0,j):min(len(conv)-1,j+5)]\n",
    "            \n",
    "            id_ec = ids[j]\n",
    "            id_st = ids[0]\n",
    "            id_en = ids[-1]\n",
    "            frac = (TsTo[id_ec]-TsTo[id_st])/ (TsTo[id_en]-TsTo[id_st])\n",
    "            \n",
    "            if (TsTo[id_en]-TsTo[id_st])!=0:\n",
    "                if 1-curr_conv in neighbourhood or j==len(conv)-1:\n",
    "                    ct+=1\n",
    "                    tot+=1\n",
    "                    click.append(1)\n",
    "                else:\n",
    "                    tot+=1\n",
    "                    click.append(0)\n"
   ]
  },
  {
   "cell_type": "code",
   "execution_count": 31,
   "metadata": {},
   "outputs": [
    {
     "data": {
      "text/plain": [
       "(93, 57)"
      ]
     },
     "execution_count": 31,
     "metadata": {},
     "output_type": "execute_result"
    }
   ],
   "source": [
    "ec_p,ec_n = ct, tot-ct\n",
    "ct, tot-ct"
   ]
  },
  {
   "cell_type": "code",
   "execution_count": 32,
   "metadata": {},
   "outputs": [],
   "source": [
    "# For remaining codas\n",
    "ct = 0\n",
    "tot = 0\n",
    "no_click = []\n",
    "for i in range(len(block_interrupt)):\n",
    "    conv = block_interrupt[i]\n",
    "    ids = blocks[i]\n",
    "    for j in range(len(conv)):\n",
    "        l = ids[max(0,j-4):min(len(conv)-1,j+4)]\n",
    "        ec = [extra_click[t] for t in l]\n",
    "        if len(ec)>0 and extra_click[ids[j]]!=1 and max(ec)==0:\n",
    "            curr_conv = conv[j]\n",
    "            neighbourhood = conv[max(0,j):min(len(conv)-1,j+5)]\n",
    "            \n",
    "            id_ec = ids[j]\n",
    "            id_st = ids[0]\n",
    "            id_en = ids[-1]\n",
    "            frac = (TsTo[id_ec]-TsTo[id_st])/ (TsTo[id_en]-TsTo[id_st])\n",
    "            \n",
    "            if (TsTo[id_en]-TsTo[id_st])!=0:\n",
    "                if 1-curr_conv in neighbourhood or j==len(conv)-1:\n",
    "                    ct+=1\n",
    "                    tot+=1\n",
    "                    no_click.append(1)\n",
    "                else:\n",
    "                    tot+=1\n",
    "                    no_click.append(0)"
   ]
  },
  {
   "cell_type": "code",
   "execution_count": 33,
   "metadata": {},
   "outputs": [
    {
     "data": {
      "text/plain": [
       "(1524, 1461)"
      ]
     },
     "execution_count": 33,
     "metadata": {},
     "output_type": "execute_result"
    }
   ],
   "source": [
    "coda_p,coda_n = ct, tot-ct\n",
    "ct, tot-ct"
   ]
  },
  {
   "cell_type": "code",
   "execution_count": 34,
   "metadata": {},
   "outputs": [
    {
     "data": {
      "text/plain": [
       "(1.564131786158309e+00, 0.009367637518872752)"
      ]
     },
     "execution_count": 34,
     "metadata": {},
     "output_type": "execute_result"
    }
   ],
   "source": [
    "from scipy.stats import fisher_exact\n",
    "\n",
    "res = fisher_exact([[ec_p,coda_p],[ec_n,coda_n]])\n",
    "res"
   ]
  }
 ],
 "metadata": {
  "kernelspec": {
   "display_name": "Python 3 (ipykernel)",
   "language": "python",
   "name": "python3"
  },
  "language_info": {
   "codemirror_mode": {
    "name": "ipython",
    "version": 3
   },
   "file_extension": ".py",
   "mimetype": "text/x-python",
   "name": "python",
   "nbconvert_exporter": "python",
   "pygments_lexer": "ipython3",
   "version": "3.9.12"
  }
 },
 "nbformat": 4,
 "nbformat_minor": 4
}
